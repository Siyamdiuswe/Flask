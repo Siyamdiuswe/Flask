{
 "cells": [
  {
   "cell_type": "code",
   "execution_count": 11,
   "metadata": {},
   "outputs": [
    {
     "name": "stdout",
     "output_type": "stream",
     "text": [
      "1\n"
     ]
    }
   ],
   "source": [
    "class Circle():\n",
    "    \n",
    "    def __init__(self,radius=1): # Default radius = 1\n",
    "        self.radius = radius\n",
    "        \n",
    "circle1 = Circle()\n",
    "print(circle1.radius)"
   ]
  },
  {
   "cell_type": "code",
   "execution_count": 12,
   "metadata": {},
   "outputs": [
    {
     "name": "stdout",
     "output_type": "stream",
     "text": [
      "10000\n"
     ]
    }
   ],
   "source": [
    "class Circle():\n",
    "    \n",
    "    def __init__(self,radius=1): # Default radius = 1\n",
    "        self.radius = radius\n",
    "        \n",
    "circle1 = Circle(10000)\n",
    "print(circle1.radius)"
   ]
  },
  {
   "cell_type": "code",
   "execution_count": 14,
   "metadata": {},
   "outputs": [
    {
     "name": "stdout",
     "output_type": "stream",
     "text": [
      "3.1416\n"
     ]
    }
   ],
   "source": [
    "class Circle():\n",
    "    pi = 3.1416\n",
    "    def __init__(self,radius=1): # Default radius = 1\n",
    "        self.radius = radius\n",
    "        \n",
    "circle1 = Circle()\n",
    "print(circle1.pi)"
   ]
  },
  {
   "cell_type": "code",
   "execution_count": 18,
   "metadata": {},
   "outputs": [
    {
     "name": "stdout",
     "output_type": "stream",
     "text": [
      "3.14\n",
      "10\n",
      "314.0\n"
     ]
    }
   ],
   "source": [
    "class Circle():\n",
    "    pi = 3.14\n",
    "    def __init__(self,radius=1): # Default radius = 1\n",
    "        self.radius = radius\n",
    "        \n",
    "    def area(self):\n",
    "        return self.pi * self.radius *self.radius\n",
    "    \n",
    "    def circumfrence(self):\n",
    "        return 2 * self.pi * self.radius\n",
    "    \n",
    "circle1 = Circle(10)\n",
    "\n",
    "print(circle1.pi)\n",
    "print(circle1.radius)\n",
    "print(circle1.area())"
   ]
  },
  {
   "cell_type": "code",
   "execution_count": null,
   "metadata": {},
   "outputs": [],
   "source": []
  }
 ],
 "metadata": {
  "kernelspec": {
   "display_name": "Python 3",
   "language": "python",
   "name": "python3"
  },
  "language_info": {
   "codemirror_mode": {
    "name": "ipython",
    "version": 3
   },
   "file_extension": ".py",
   "mimetype": "text/x-python",
   "name": "python",
   "nbconvert_exporter": "python",
   "pygments_lexer": "ipython3",
   "version": "3.7.7"
  }
 },
 "nbformat": 4,
 "nbformat_minor": 4
}
